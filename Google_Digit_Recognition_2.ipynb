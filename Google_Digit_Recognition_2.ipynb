{
  "cells": [
    {
      "cell_type": "markdown",
      "metadata": {
        "id": "view-in-github",
        "colab_type": "text"
      },
      "source": [
        "<a href=\"https://colab.research.google.com/github/arnaldomariano/Facial_Emotion_Detection/blob/main/Google_Digit_Recognition_2.ipynb\" target=\"_parent\"><img src=\"https://colab.research.google.com/assets/colab-badge.svg\" alt=\"Open In Colab\"/></a>"
      ]
    },
    {
      "cell_type": "markdown",
      "metadata": {
        "id": "Q91KqmCRu64D"
      },
      "source": [
        "# **Deep Learning Project: Street View Housing Number Digit Recognition**\n",
        "\n",
        "# **Marks: 60**\n",
        "\n",
        "\n",
        "--------------\n",
        "## **Context**\n",
        "--------------\n",
        "\n",
        "One of the most interesting tasks in deep learning is to recognize objects in natural scenes. The ability to process visual information using machine learning algorithms can be very useful as demonstrated in various applications.\n",
        "\n",
        "The SVHN dataset contains over 600,000 labeled digits cropped from street-level photos. It is one of the most popular image recognition datasets. It has been used in neural networks created by Google to improve the map quality by automatically transcribing the address numbers from a patch of pixels. The transcribed number with a known street address helps pinpoint the location of the building it represents.\n",
        "\n",
        "----------------\n",
        "## **Objective**\n",
        "----------------\n",
        "\n",
        "Our objective is to predict the number depicted inside the image by using Artificial or Fully Connected Feed Forward Neural Networks and Convolutional Neural Networks. We will go through various models of each and finally select the one that is giving us the best performance.\n",
        "\n",
        "-------------\n",
        "## **Dataset**\n",
        "-------------\n",
        "Here, we will use a subset of the original data to save some computation time. The dataset is provided as a .h5 file. The basic preprocessing steps have been applied on the dataset."
      ]
    },
    {
      "cell_type": "code",
      "source": [
        "from google.colab import drive\n",
        "drive.mount('/content/drive')"
      ],
      "metadata": {
        "colab": {
          "base_uri": "https://localhost:8080/"
        },
        "id": "P8ClP6Ynqzi0",
        "outputId": "fd35b7ae-4572-4b89-a4bc-61fd04731c99"
      },
      "execution_count": 1,
      "outputs": [
        {
          "output_type": "stream",
          "name": "stdout",
          "text": [
            "Mounted at /content/drive\n"
          ]
        }
      ]
    },
    {
      "cell_type": "markdown",
      "metadata": {
        "id": "d0ef2b3c"
      },
      "source": [
        "### **Please read the instructions carefully before starting the project.**\n",
        "\n",
        "This is a commented Jupyter IPython Notebook file in which all the instructions and tasks to be performed are mentioned. Read along carefully to complete the project.\n",
        "\n",
        "* Blanks '_______' are provided in the notebook that needs to be filled with an appropriate code to get the correct result. Please replace the blank with the right code snippet. With every '_______' blank, there is a comment that briefly describes what needs to be filled in the blank space.\n",
        "* Identify the task to be performed correctly, and only then proceed to write the required code.\n",
        "* Fill the code wherever asked by the commented lines like \"# Fill in the blank\" or \"# Complete the code\". Running incomplete code may throw an error.\n",
        "* Remove the blank and state your observations in detail wherever the mark down says 'Write your observations here:_________'\n",
        "* Please run the codes in a sequential manner from the beginning to avoid any unnecessary errors.\n",
        "* You can the results/observations derived from the analysis here and use them to create your final report."
      ]
    },
    {
      "cell_type": "markdown",
      "metadata": {
        "id": "8z2Z7-OAs8QG"
      },
      "source": [
        "## **Mount the drive**\n",
        "\n",
        "Let us start by mounting the Google drive. You can run the below cell to mount the Google drive."
      ]
    },
    {
      "cell_type": "code",
      "execution_count": 1,
      "metadata": {
        "id": "03lDyQUuef7z",
        "colab": {
          "base_uri": "https://localhost:8080/"
        },
        "outputId": "4abac1fd-039d-4201-b8be-1458412ebed5"
      },
      "outputs": [
        {
          "output_type": "stream",
          "name": "stdout",
          "text": [
            "Mounted at /content/drive\n"
          ]
        }
      ],
      "source": [
        "from google.colab import drive\n",
        "\n",
        "drive.mount('/content/drive')"
      ]
    },
    {
      "cell_type": "markdown",
      "metadata": {
        "id": "C8U3DUa3eNsT"
      },
      "source": [
        "## **Importing the necessary libraries**"
      ]
    },
    {
      "cell_type": "code",
      "execution_count": 2,
      "metadata": {
        "id": "-dVzeuF3eQx1"
      },
      "outputs": [],
      "source": [
        "import numpy as np\n",
        "\n",
        "import pandas as pd\n",
        "\n",
        "import matplotlib.pyplot as plt\n",
        "\n",
        "import seaborn as sns\n",
        "\n",
        "from sklearn.model_selection import train_test_split\n",
        "\n",
        "from sklearn.preprocessing import MinMaxScaler\n",
        "\n",
        "from sklearn.metrics import classification_report\n",
        "\n",
        "import tensorflow as tf\n",
        "\n",
        "from tensorflow.keras.models import Sequential\n",
        "\n",
        "from tensorflow.keras.layers import Dense, Dropout, Activation, Conv2D, Flatten, BatchNormalization, MaxPooling2D\n",
        "\n",
        "from tensorflow.keras.losses import categorical_crossentropy\n",
        "\n",
        "from tensorflow.keras.optimizers import Adam\n",
        "\n",
        "from tensorflow.keras.utils import to_categorical\n",
        "\n",
        "from tensorflow.keras.layers import LeakyReLU\n",
        "\n",
        "from tensorflow.keras.layers import GlobalAveragePooling2D\n",
        "\n",
        "\n"
      ]
    },
    {
      "cell_type": "markdown",
      "metadata": {
        "id": "ucnevGLoyKf_"
      },
      "source": [
        "**Let us check the version of tensorflow.**"
      ]
    },
    {
      "cell_type": "code",
      "execution_count": 3,
      "metadata": {
        "colab": {
          "base_uri": "https://localhost:8080/"
        },
        "id": "W5as47YxyJVk",
        "outputId": "1cae0241-1138-4af6-9b5e-2d24c9ddee0e"
      },
      "outputs": [
        {
          "output_type": "stream",
          "name": "stdout",
          "text": [
            "2.15.0\n"
          ]
        }
      ],
      "source": [
        "print(tf.__version__)"
      ]
    },
    {
      "cell_type": "markdown",
      "metadata": {
        "id": "8lsux2ZwyTTR"
      },
      "source": [
        "## **Load the dataset**\n",
        "\n",
        "- Let us now load the dataset that is available as a .h5 file.\n",
        "- Split the data into the train and the test dataset."
      ]
    },
    {
      "cell_type": "code",
      "execution_count": 4,
      "metadata": {
        "id": "BApX9qgNsqV0",
        "scrolled": true
      },
      "outputs": [],
      "source": [
        "import h5py\n",
        "import os\n",
        "\n",
        "h5f = h5py.File('/content/drive/MyDrive/Elective_project/SVHN_single_grey1.h5', 'r')\n",
        "\n",
        "# Load the training and the test dataset\n",
        "\n",
        "X_train = h5f['X_train'][:]\n",
        "\n",
        "y_train = h5f['y_train'][:]\n",
        "\n",
        "X_test = h5f['X_test'][:]\n",
        "\n",
        "y_test = h5f['y_test'][:]\n",
        "\n",
        "\n",
        "# Close this file\n",
        "\n",
        "h5f.close()\n"
      ]
    },
    {
      "cell_type": "markdown",
      "metadata": {
        "id": "hVe0CYpUgj7w"
      },
      "source": [
        "Let's check the number of images in the training and the testing dataset."
      ]
    },
    {
      "cell_type": "code",
      "execution_count": 5,
      "metadata": {
        "colab": {
          "base_uri": "https://localhost:8080/"
        },
        "id": "y3lwKpOefkpA",
        "outputId": "ed2bf4a0-d2e3-4372-86b6-cf0a1da5e5d9"
      },
      "outputs": [
        {
          "output_type": "execute_result",
          "data": {
            "text/plain": [
              "(42000, 18000)"
            ]
          },
          "metadata": {},
          "execution_count": 5
        }
      ],
      "source": [
        "len(X_train), len(X_test)"
      ]
    },
    {
      "cell_type": "markdown",
      "metadata": {
        "id": "akTUOfLlgwoM"
      },
      "source": [
        "**Observation:**\n",
        "- There are 42,000 images in the training data and 18,000 images in the testing data."
      ]
    },
    {
      "cell_type": "markdown",
      "metadata": {
        "id": "kxODV6HKykuc"
      },
      "source": [
        "## **Visualizing images**\n",
        "\n",
        "- Use X_train to visualize the first 10 images.\n",
        "- Use Y_train to print the first 10 labels."
      ]
    },
    {
      "cell_type": "code",
      "execution_count": 6,
      "metadata": {
        "colab": {
          "base_uri": "https://localhost:8080/",
          "height": 119
        },
        "id": "Bvsc8ytHsqWD",
        "outputId": "61d391be-397c-4c0a-fc10-2d9c89c0b7b6"
      },
      "outputs": [
        {
          "output_type": "display_data",
          "data": {
            "text/plain": [
              "<Figure size 1000x100 with 10 Axes>"
            ],
            "image/png": "[encoded data removed]"
          },
          "metadata": {}
        },
        {
          "output_type": "stream",
          "name": "stdout",
          "text": [
            "label for each of the above image: [2 6 7 4 4 0 3 0 7 3]\n"
          ]
        }
      ],
      "source": [
        "# Visualizing the first 10 images in the dataset and printing their labels\n",
        "\n",
        "plt.figure(figsize = (10, 1))\n",
        "\n",
        "for i in range(10):\n",
        "\n",
        "    plt.subplot(1, 10, i+1)\n",
        "\n",
        "    plt.imshow(X_train[i], cmap = \"gray\")\n",
        "\n",
        "    plt.axis('off')\n",
        "\n",
        "plt.show()\n",
        "\n",
        "print('label for each of the above image: %s' % (y_train[0:10]))"
      ]
    },
    {
      "cell_type": "markdown",
      "metadata": {
        "id": "kzoyeXHOy80N"
      },
      "source": [
        "## **Data preparation**\n",
        "\n",
        "- Print the shape and the array of pixels for the first image in the training dataset.\n",
        "- Normalize the train and the test dataset by dividing by 255.\n",
        "- Print the new shapes of the train and the test dataset.\n",
        "- One-hot encode the target variable."
      ]
    },
    {
      "cell_type": "code",
      "execution_count": 7,
      "metadata": {
        "colab": {
          "base_uri": "https://localhost:8080/"
        },
        "id": "NqndzQXng9rL",
        "outputId": "26c962ba-5b59-4f6c-c093-193a630283e2"
      },
      "outputs": [
        {
          "output_type": "stream",
          "name": "stdout",
          "text": [
            "Shape: (32, 32)\n",
            "\n",
            "First image:\n",
            " [[ 33.0704  30.2601  26.852  ...  71.4471  58.2204  42.9939]\n",
            " [ 25.2283  25.5533  29.9765 ... 113.0209 103.3639  84.2949]\n",
            " [ 26.2775  22.6137  40.4763 ... 113.3028 121.775  115.4228]\n",
            " ...\n",
            " [ 28.5502  36.212   45.0801 ...  24.1359  25.0927  26.0603]\n",
            " [ 38.4352  26.4733  23.2717 ...  28.1094  29.4683  30.0661]\n",
            " [ 50.2984  26.0773  24.0389 ...  49.6682  50.853   53.0377]]\n"
          ]
        }
      ],
      "source": [
        "# Shape and the array of pixels for the first image\n",
        "\n",
        "print(\"Shape:\", X_train[0].shape)\n",
        "\n",
        "print()\n",
        "\n",
        "print(\"First image:\\n\", X_train[0])"
      ]
    },
    {
      "cell_type": "code",
      "execution_count": 8,
      "metadata": {
        "id": "D9YPwf9ysqWU"
      },
      "outputs": [],
      "source": [
        "# Reshaping the dataset to flatten them. We are reshaping the 2D image into 1D array\n",
        "\n",
        "X_train = X_train.reshape(X_train.shape[0], 1024)\n",
        "\n",
        "X_test = X_test.reshape(X_test.shape[0], 1024)"
      ]
    },
    {
      "cell_type": "markdown",
      "metadata": {
        "id": "f4CQkKtQ0XII"
      },
      "source": [
        "### **Normalize the train and the test data.**"
      ]
    },
    {
      "cell_type": "code",
      "execution_count": 9,
      "metadata": {
        "id": "q_yUUTp_mUzB"
      },
      "outputs": [],
      "source": [
        "# Normalize inputs from 0-255 to 0-1\n",
        "\n",
        "X_train = X_train/255\n",
        "\n",
        "X_test = X_test/255"
      ]
    },
    {
      "cell_type": "code",
      "execution_count": 10,
      "metadata": {
        "colab": {
          "base_uri": "https://localhost:8080/"
        },
        "id": "t7FSqOpamWkH",
        "outputId": "07913288-f56a-479c-ade0-acf81430bd48"
      },
      "outputs": [
        {
          "output_type": "stream",
          "name": "stdout",
          "text": [
            "Training set: (42000, 1024) (42000,)\n",
            "Test set: (18000, 1024) (18000,)\n"
          ]
        }
      ],
      "source": [
        "# New shape\n",
        "\n",
        "print('Training set:', X_train.shape, y_train.shape)\n",
        "\n",
        "print('Test set:', X_test.shape, y_test.shape)"
      ]
    },
    {
      "cell_type": "code",
      "execution_count": 11,
      "metadata": {
        "colab": {
          "base_uri": "https://localhost:8080/"
        },
        "id": "zL0lYER4sqWw",
        "outputId": "dbc1240c-5b81-468c-e3cf-d7d271549815"
      },
      "outputs": [
        {
          "output_type": "execute_result",
          "data": {
            "text/plain": [
              "array([[0., 1., 0., ..., 0., 0., 0.],\n",
              "       [0., 0., 0., ..., 1., 0., 0.],\n",
              "       [0., 0., 1., ..., 0., 0., 0.],\n",
              "       ...,\n",
              "       [0., 0., 0., ..., 1., 0., 0.],\n",
              "       [0., 0., 0., ..., 0., 0., 1.],\n",
              "       [0., 0., 1., ..., 0., 0., 0.]], dtype=float32)"
            ]
          },
          "metadata": {},
          "execution_count": 11
        }
      ],
      "source": [
        "# One-hot encode output\n",
        "\n",
        "y_train = to_categorical(y_train)\n",
        "\n",
        "y_test = to_categorical(y_test)\n",
        "\n",
        "# Test labels\n",
        "\n",
        "y_test"
      ]
    },
    {
      "cell_type": "markdown",
      "metadata": {
        "id": "ViqPOTquCF76"
      },
      "source": [
        "**Observation:**\n",
        "- Notice that each entry of the target variable is a one-hot encoded vector instead of a single label."
      ]
    },
    {
      "cell_type": "markdown",
      "metadata": {
        "id": "yH-gVrzuByNA"
      },
      "source": [
        "## **Model Building**\n",
        "\n",
        "Now that we have done the data preprocessing, let's build an ANN model."
      ]
    },
    {
      "cell_type": "code",
      "execution_count": 12,
      "metadata": {
        "id": "BcKRwrGn0XIL"
      },
      "outputs": [],
      "source": [
        "# Fixing the seed for random number generators\n",
        "\n",
        "np.random.seed(42)\n",
        "\n",
        "import random\n",
        "\n",
        "random.seed(42)\n",
        "\n",
        "tf.random.set_seed(42)"
      ]
    },
    {
      "cell_type": "markdown",
      "metadata": {
        "id": "UJDUoaEj1d6e"
      },
      "source": [
        "### **Model Architecture**\n",
        "- Write a function that returns a sequential model with the following architecture:\n",
        " - First hidden layer with **64 nodes and the relu activation** and the **input shape = (1024, )**\n",
        " - Second hidden layer with **32 nodes and the relu activation**\n",
        " - Output layer with **activation as 'softmax' and number of nodes equal to the number of classes, i.e., 10**\n",
        " - Compile the model with the **loss equal to categorical_crossentropy, optimizer equal to Adam(learning_rate = 0.001), and metric equal to 'accuracy'**. Do not fit the model here, just return the compiled model.\n",
        "- Call the nn_model_1 function and store the model in a new variable.\n",
        "- Print the summary of the model.\n",
        "- Fit on the train data with a **validation split of 0.2, batch size = 128, verbose = 1, and epochs = 20**. Store the model building history to use later for visualization."
      ]
    },
    {
      "cell_type": "markdown",
      "metadata": {
        "id": "A48z6ucF0XIP"
      },
      "source": [
        "### **Build and train an ANN model as per the above mentioned architecture.**"
      ]
    },
    {
      "cell_type": "code",
      "execution_count": 13,
      "metadata": {
        "id": "Cmi81Gr5sqW-"
      },
      "outputs": [],
      "source": [
        "\n",
        "# Define the model architecture\n",
        "def nn_model_1():\n",
        "\n",
        "    model = Sequential()\n",
        "\n",
        "    # First hidden layer with 64 nodes and relu activation\n",
        "    model.add(Dense(64, activation='relu', input_shape=(1024,)))\n",
        "\n",
        "    # Second hidden layer with 32 nodes and relu activation\n",
        "    model.add(Dense(32, activation='relu'))\n",
        "\n",
        "    # Output layer with activation as 'softmax' and number of nodes equal to the number of classes (10)\n",
        "    model.add(Dense(10, activation='softmax'))\n",
        "\n",
        "    # Compile the model\n",
        "    model.compile(\n",
        "        loss='categorical_crossentropy',\n",
        "        optimizer = tf.keras.optimizers.Adam(learning_rate=0.001),\n",
        "        metrics=['accuracy']\n",
        "    )\n",
        "\n",
        "    return model\n"
      ]
    },
    {
      "cell_type": "code",
      "execution_count": 14,
      "metadata": {
        "id": "bGCUI_xsImnH"
      },
      "outputs": [],
      "source": [
        "# Build the model (# Call the nn_model_1 function and store the model in a new variable)\n",
        "\n",
        "model_1 = nn_model_1()"
      ]
    },
    {
      "cell_type": "code",
      "execution_count": 15,
      "metadata": {
        "colab": {
          "base_uri": "https://localhost:8080/"
        },
        "id": "ckJsLdmdQadZ",
        "outputId": "7f412d4d-1e02-426e-aa7a-56dfe1b2afcb"
      },
      "outputs": [
        {
          "output_type": "stream",
          "name": "stdout",
          "text": [
            "Model: \"sequential\"\n",
            "_________________________________________________________________\n",
            " Layer (type)                Output Shape              Param #   \n",
            "=================================================================\n",
            " dense (Dense)               (None, 64)                65600     \n",
            "                                                                 \n",
            " dense_1 (Dense)             (None, 32)                2080      \n",
            "                                                                 \n",
            " dense_2 (Dense)             (None, 10)                330       \n",
            "                                                                 \n",
            "=================================================================\n",
            "Total params: 68010 (265.66 KB)\n",
            "Trainable params: 68010 (265.66 KB)\n",
            "Non-trainable params: 0 (0.00 Byte)\n",
            "_________________________________________________________________\n"
          ]
        }
      ],
      "source": [
        "# Print the summary\n",
        "\n",
        "model_1.summary()\n",
        "\n",
        "model: \"sequential\""
      ]
    },
    {
      "cell_type": "code",
      "execution_count": 16,
      "metadata": {
        "colab": {
          "base_uri": "https://localhost:8080/"
        },
        "id": "DQ0qp9wIhGHL",
        "outputId": "0bea0562-6f58-48b9-dd40-8339dff22c39"
      },
      "outputs": [
        {
          "output_type": "stream",
          "name": "stdout",
          "text": [
            "Epoch 1/20\n",
            "263/263 [==============================] - 3s 5ms/step - loss: 2.2934 - accuracy: 0.1233 - val_loss: 2.2324 - val_accuracy: 0.1744\n",
            "Epoch 2/20\n",
            "263/263 [==============================] - 1s 5ms/step - loss: 2.0774 - accuracy: 0.2509 - val_loss: 1.9318 - val_accuracy: 0.3089\n",
            "Epoch 3/20\n",
            "263/263 [==============================] - 1s 5ms/step - loss: 1.8679 - accuracy: 0.3405 - val_loss: 1.7779 - val_accuracy: 0.3869\n",
            "Epoch 4/20\n",
            "263/263 [==============================] - 1s 5ms/step - loss: 1.6573 - accuracy: 0.4391 - val_loss: 1.5288 - val_accuracy: 0.4907\n",
            "Epoch 5/20\n",
            "263/263 [==============================] - 1s 4ms/step - loss: 1.4635 - accuracy: 0.5180 - val_loss: 1.4202 - val_accuracy: 0.5255\n",
            "Epoch 6/20\n",
            "263/263 [==============================] - 1s 4ms/step - loss: 1.3593 - accuracy: 0.5566 - val_loss: 1.3259 - val_accuracy: 0.5749\n",
            "Epoch 7/20\n",
            "263/263 [==============================] - 1s 4ms/step - loss: 1.2905 - accuracy: 0.5834 - val_loss: 1.2542 - val_accuracy: 0.6012\n",
            "Epoch 8/20\n",
            "263/263 [==============================] - 1s 4ms/step - loss: 1.2378 - accuracy: 0.6036 - val_loss: 1.2163 - val_accuracy: 0.6231\n",
            "Epoch 9/20\n",
            "263/263 [==============================] - 1s 4ms/step - loss: 1.1996 - accuracy: 0.6203 - val_loss: 1.1702 - val_accuracy: 0.6332\n",
            "Epoch 10/20\n",
            "263/263 [==============================] - 1s 4ms/step - loss: 1.1659 - accuracy: 0.6332 - val_loss: 1.1446 - val_accuracy: 0.6431\n",
            "Epoch 11/20\n",
            "263/263 [==============================] - 1s 4ms/step - loss: 1.1461 - accuracy: 0.6401 - val_loss: 1.1250 - val_accuracy: 0.6476\n",
            "Epoch 12/20\n",
            "263/263 [==============================] - 1s 4ms/step - loss: 1.1244 - accuracy: 0.6485 - val_loss: 1.1143 - val_accuracy: 0.6514\n",
            "Epoch 13/20\n",
            "263/263 [==============================] - 1s 4ms/step - loss: 1.1020 - accuracy: 0.6585 - val_loss: 1.0973 - val_accuracy: 0.6595\n",
            "Epoch 14/20\n",
            "263/263 [==============================] - 1s 4ms/step - loss: 1.0974 - accuracy: 0.6598 - val_loss: 1.0960 - val_accuracy: 0.6615\n",
            "Epoch 15/20\n",
            "263/263 [==============================] - 1s 4ms/step - loss: 1.0844 - accuracy: 0.6640 - val_loss: 1.0959 - val_accuracy: 0.6648\n",
            "Epoch 16/20\n",
            "263/263 [==============================] - 1s 6ms/step - loss: 1.0711 - accuracy: 0.6678 - val_loss: 1.1224 - val_accuracy: 0.6482\n",
            "Epoch 17/20\n",
            "263/263 [==============================] - 1s 6ms/step - loss: 1.0613 - accuracy: 0.6734 - val_loss: 1.0644 - val_accuracy: 0.6719\n",
            "Epoch 18/20\n",
            "263/263 [==============================] - 1s 4ms/step - loss: 1.0541 - accuracy: 0.6735 - val_loss: 1.0578 - val_accuracy: 0.6725\n",
            "Epoch 19/20\n",
            "263/263 [==============================] - 1s 4ms/step - loss: 1.0480 - accuracy: 0.6744 - val_loss: 1.0582 - val_accuracy: 0.6748\n",
            "Epoch 20/20\n",
            "263/263 [==============================] - 1s 4ms/step - loss: 1.0417 - accuracy: 0.6773 - val_loss: 1.0558 - val_accuracy: 0.6715\n"
          ]
        }
      ],
      "source": [
        "#Fit the model\n",
        "\n",
        "# Fit the model on the train data\n",
        "history_model_1 = model_1.fit(\n",
        "    X_train, y_train,\n",
        "    validation_split=0.2,\n",
        "    batch_size=128,\n",
        "    epochs=20,\n",
        "    verbose=1\n",
        ")"
      ]
    },
    {
      "cell_type": "markdown",
      "metadata": {
        "id": "tKOckG-KPyLg"
      },
      "source": [
        "### **Plotting the validation and training accuracies**"
      ]
    },
    {
      "cell_type": "markdown",
      "metadata": {
        "id": "MeF8XSWz0XIU"
      },
      "source": [
        "### **Write your observations on the below plot.**"
      ]
    },
    {
      "cell_type": "code",
      "execution_count": 17,
      "metadata": {
        "colab": {
          "base_uri": "https://localhost:8080/",
          "height": 544
        },
        "id": "lt77zgGMP4yw",
        "outputId": "451f6a3f-b044-4d6a-b403-4eac07054617"
      },
      "outputs": [
        {
          "output_type": "display_data",
          "data": {
            "text/plain": [
              "<Figure size 800x600 with 1 Axes>"
            ],
            "image/png": "[encoded data removed]"
          },
          "metadata": {}
        }
      ],
      "source": [
        "# Plotting the accuracies\n",
        "\n",
        "dict_hist = history_model_1.history\n",
        "\n",
        "list_ep = [i for i in range(1, 21)]\n",
        "\n",
        "plt.figure(figsize = (8, 6))\n",
        "\n",
        "plt.plot(list_ep, dict_hist['accuracy'], ls = '--', label = 'accuracy')\n",
        "\n",
        "plt.plot(list_ep, dict_hist['val_accuracy'], ls = '--', label = 'val_accuracy')\n",
        "\n",
        "plt.ylabel('Accuracy')\n",
        "\n",
        "plt.xlabel('Epochs')\n",
        "\n",
        "plt.legend()\n",
        "\n",
        "plt.show()"
      ]
    },
    {
      "cell_type": "markdown",
      "metadata": {
        "id": "pGBbQpLONX7k"
      },
      "source": [
        "**Observations**: This is our first model architeture training. Despite the validation curve being slightly above the accuracy curve, we achieved a good overall results. Uppon the the epoch plot, we can see that with the training it was possible to significantly reduce losses and greatly improve the accuracy validation values. But we can work more in order to improve the results that has been achived around 60% success."
      ]
    },
    {
      "cell_type": "markdown",
      "metadata": {
        "id": "z0qgLMBZm5-K"
      },
      "source": [
        "Let's build one more model with higher complexity and see if we can improve the performance of the model.\n",
        "\n",
        "First, we need to clear the previous model's history from the Keras backend. Also, let's fix the seed again after clearing the backend."
      ]
    },
    {
      "cell_type": "code",
      "execution_count": 18,
      "metadata": {
        "id": "y98BpLxsok_H"
      },
      "outputs": [],
      "source": [
        "# Clearing backend\n",
        "\n",
        "from tensorflow.keras import backend\n",
        "\n",
        "backend.clear_session()"
      ]
    },
    {
      "cell_type": "code",
      "execution_count": 19,
      "metadata": {
        "id": "HbKi93HTolGW"
      },
      "outputs": [],
      "source": [
        "# Fixing the seed for random number generators\n",
        "\n",
        "np.random.seed(42)\n",
        "\n",
        "import random\n",
        "\n",
        "random.seed(42)\n",
        "\n",
        "tf.random.set_seed(42)"
      ]
    },
    {
      "cell_type": "markdown",
      "metadata": {
        "id": "lT6o3TIKuCtk"
      },
      "source": [
        "### **Second Model Architecture**\n",
        "- Write a function that returns a sequential model with the following architecture:\n",
        " - First hidden layer with **256 nodes and the relu activation** and the **input shape = (1024, )**\n",
        " - Second hidden layer with **128 nodes and the relu activation**\n",
        " - Add the **Dropout layer with the rate equal to 0.2**\n",
        " - Third hidden layer with **64 nodes and the relu activation**\n",
        " - Fourth hidden layer with **64 nodes and the relu activation**\n",
        " - Fifth hidden layer with **32 nodes and the relu activation**\n",
        " - Add the **BatchNormalization layer**\n",
        " - Output layer with **activation as 'softmax' and number of nodes equal to the number of classes, i.e., 10**\n",
        " -Compile the model with the **loss equal to categorical_crossentropy, optimizer equal to Adam(learning_rate = 0.0005), and metric equal to 'accuracy'**. Do not fit the model here, just return the compiled model.\n",
        "- Call the nn_model_2 function and store the model in a new variable.\n",
        "- Print the summary of the model.\n",
        "- Fit on the train data with a **validation split of 0.2, batch size = 128, verbose = 1, and epochs = 30**. Store the model building history to use later for visualization."
      ]
    },
    {
      "cell_type": "markdown",
      "metadata": {
        "id": "f-ZjNBmH0XIV"
      },
      "source": [
        "### **Build and train the new ANN model as per the above mentioned architecture.**"
      ]
    },
    {
      "cell_type": "code",
      "execution_count": 20,
      "metadata": {
        "id": "EEPYLFIPnSDP"
      },
      "outputs": [],
      "source": [
        "# Define the model\n",
        "\n",
        "def nn_model_2():\n",
        "\n",
        "    model = Sequential()\n",
        "\n",
        "    # Add layers as per the architecture mentioned above in the same sequence\n",
        "\n",
        "    #First hiden layer with 256 nodes and relu activation\n",
        "    model.add(Dense(256, activation='relu', input_shape=(1024,)))\n",
        "\n",
        "     #Second hiden layer with 128 nodes and relu activation\n",
        "    model.add(Dense(128, activation='relu'))\n",
        "\n",
        "    #Add the **Dropout layer with the rate equal to 0.2**\n",
        "    Dropout(0.2),\n",
        "\n",
        "     #Third hiden layer with 64 nodes and relu activation\n",
        "    model.add(Dense(64, activation='relu'))\n",
        "\n",
        "    #Fourth hiden layer with 64 nodes and relu activation\n",
        "    model.add(Dense(64, activation='relu'))\n",
        "\n",
        "    #Fifth hiden layer with 32 nodes and relu activation\n",
        "    model.add(Dense(32, activation='relu'))\n",
        "\n",
        "    #Output layer with activation as 'softmax\n",
        "    model.add(Dense(10, activation='softmax'))\n",
        "\n",
        "    #Compile the model\n",
        "\n",
        "    model.compile(\n",
        "      loss= 'categorical_crossentropy',\n",
        "      optimizer=tf.keras.optimizers.Adam(learning_rate=0.0005),\n",
        "      metrics=['accuracy']\n",
        "    )\n",
        "\n",
        "    return model"
      ]
    },
    {
      "cell_type": "code",
      "execution_count": 21,
      "metadata": {
        "id": "AKjDY4plnSFl"
      },
      "outputs": [],
      "source": [
        "# Build the model\n",
        "\n",
        "model_2 = nn_model_2()"
      ]
    },
    {
      "cell_type": "code",
      "execution_count": 22,
      "metadata": {
        "colab": {
          "base_uri": "https://localhost:8080/"
        },
        "id": "gz_6SVrU2swZ",
        "outputId": "080fb7e5-02c9-449b-d15b-ab4bcf0fe6f9"
      },
      "outputs": [
        {
          "output_type": "stream",
          "name": "stdout",
          "text": [
            "Model: \"sequential\"\n",
            "_________________________________________________________________\n",
            " Layer (type)                Output Shape              Param #   \n",
            "=================================================================\n",
            " dense (Dense)               (None, 256)               262400    \n",
            "                                                                 \n",
            " dense_1 (Dense)             (None, 128)               32896     \n",
            "                                                                 \n",
            " dense_2 (Dense)             (None, 64)                8256      \n",
            "                                                                 \n",
            " dense_3 (Dense)             (None, 64)                4160      \n",
            "                                                                 \n",
            " dense_4 (Dense)             (None, 32)                2080      \n",
            "                                                                 \n",
            " dense_5 (Dense)             (None, 10)                330       \n",
            "                                                                 \n",
            "=================================================================\n",
            "Total params: 310122 (1.18 MB)\n",
            "Trainable params: 310122 (1.18 MB)\n",
            "Non-trainable params: 0 (0.00 Byte)\n",
            "_________________________________________________________________\n"
          ]
        }
      ],
      "source": [
        "# Print the model summary\n",
        "model_2.summary()\n",
        "\n",
        "model: 'sequential'"
      ]
    },
    {
      "cell_type": "code",
      "execution_count": 23,
      "metadata": {
        "colab": {
          "base_uri": "https://localhost:8080/"
        },
        "id": "IQ0Sc4R-y-uu",
        "outputId": "a0399e96-0766-4fd3-e121-cf542af1a6de"
      },
      "outputs": [
        {
          "output_type": "stream",
          "name": "stdout",
          "text": [
            "Epoch 1/30\n",
            "263/263 [==============================] - 3s 5ms/step - loss: 2.2643 - accuracy: 0.1306 - val_loss: 2.1431 - val_accuracy: 0.1783\n",
            "Epoch 2/30\n",
            "263/263 [==============================] - 1s 4ms/step - loss: 1.8517 - accuracy: 0.3160 - val_loss: 1.6585 - val_accuracy: 0.4049\n",
            "Epoch 3/30\n",
            "263/263 [==============================] - 1s 5ms/step - loss: 1.6144 - accuracy: 0.4265 - val_loss: 1.5275 - val_accuracy: 0.4615\n",
            "Epoch 4/30\n",
            "263/263 [==============================] - 2s 7ms/step - loss: 1.5203 - accuracy: 0.4738 - val_loss: 1.4443 - val_accuracy: 0.5157\n",
            "Epoch 5/30\n",
            "263/263 [==============================] - 2s 7ms/step - loss: 1.3842 - accuracy: 0.5404 - val_loss: 1.3368 - val_accuracy: 0.5595\n",
            "Epoch 6/30\n",
            "263/263 [==============================] - 1s 5ms/step - loss: 1.2823 - accuracy: 0.5788 - val_loss: 1.2461 - val_accuracy: 0.5919\n",
            "Epoch 7/30\n",
            "263/263 [==============================] - 1s 4ms/step - loss: 1.2192 - accuracy: 0.6024 - val_loss: 1.1933 - val_accuracy: 0.6199\n",
            "Epoch 8/30\n",
            "263/263 [==============================] - 1s 4ms/step - loss: 1.1581 - accuracy: 0.6265 - val_loss: 1.1205 - val_accuracy: 0.6488\n",
            "Epoch 9/30\n",
            "263/263 [==============================] - 1s 4ms/step - loss: 1.1163 - accuracy: 0.6444 - val_loss: 1.0972 - val_accuracy: 0.6560\n",
            "Epoch 10/30\n",
            "263/263 [==============================] - 1s 5ms/step - loss: 1.0700 - accuracy: 0.6598 - val_loss: 1.1028 - val_accuracy: 0.6490\n",
            "Epoch 11/30\n",
            "263/263 [==============================] - 1s 4ms/step - loss: 1.0227 - accuracy: 0.6795 - val_loss: 1.0070 - val_accuracy: 0.6845\n",
            "Epoch 12/30\n",
            "263/263 [==============================] - 1s 4ms/step - loss: 0.9891 - accuracy: 0.6900 - val_loss: 0.9707 - val_accuracy: 0.6996\n",
            "Epoch 13/30\n",
            "263/263 [==============================] - 1s 4ms/step - loss: 0.9503 - accuracy: 0.7047 - val_loss: 0.9548 - val_accuracy: 0.6986\n",
            "Epoch 14/30\n",
            "263/263 [==============================] - 1s 5ms/step - loss: 0.9234 - accuracy: 0.7146 - val_loss: 0.9207 - val_accuracy: 0.7102\n",
            "Epoch 15/30\n",
            "263/263 [==============================] - 2s 6ms/step - loss: 0.8914 - accuracy: 0.7232 - val_loss: 0.9183 - val_accuracy: 0.7089\n",
            "Epoch 16/30\n",
            "263/263 [==============================] - 2s 7ms/step - loss: 0.8638 - accuracy: 0.7321 - val_loss: 0.9088 - val_accuracy: 0.7093\n",
            "Epoch 17/30\n",
            "263/263 [==============================] - 1s 5ms/step - loss: 0.8344 - accuracy: 0.7422 - val_loss: 0.8292 - val_accuracy: 0.7410\n",
            "Epoch 18/30\n",
            "263/263 [==============================] - 1s 4ms/step - loss: 0.8063 - accuracy: 0.7492 - val_loss: 0.8664 - val_accuracy: 0.7344\n",
            "Epoch 19/30\n",
            "263/263 [==============================] - 1s 4ms/step - loss: 0.7972 - accuracy: 0.7506 - val_loss: 0.8275 - val_accuracy: 0.7408\n",
            "Epoch 20/30\n",
            "263/263 [==============================] - 1s 4ms/step - loss: 0.7768 - accuracy: 0.7611 - val_loss: 0.7917 - val_accuracy: 0.7556\n",
            "Epoch 21/30\n",
            "263/263 [==============================] - 1s 4ms/step - loss: 0.7604 - accuracy: 0.7610 - val_loss: 0.7594 - val_accuracy: 0.7686\n",
            "Epoch 22/30\n",
            "263/263 [==============================] - 1s 5ms/step - loss: 0.7509 - accuracy: 0.7667 - val_loss: 0.7917 - val_accuracy: 0.7542\n",
            "Epoch 23/30\n",
            "263/263 [==============================] - 1s 4ms/step - loss: 0.7270 - accuracy: 0.7736 - val_loss: 0.7944 - val_accuracy: 0.7537\n",
            "Epoch 24/30\n",
            "263/263 [==============================] - 1s 4ms/step - loss: 0.7077 - accuracy: 0.7804 - val_loss: 0.7595 - val_accuracy: 0.7658\n",
            "Epoch 25/30\n",
            "263/263 [==============================] - 1s 5ms/step - loss: 0.6990 - accuracy: 0.7820 - val_loss: 0.7541 - val_accuracy: 0.7662\n",
            "Epoch 26/30\n",
            "263/263 [==============================] - 2s 6ms/step - loss: 0.6957 - accuracy: 0.7809 - val_loss: 0.7460 - val_accuracy: 0.7721\n",
            "Epoch 27/30\n",
            "263/263 [==============================] - 2s 6ms/step - loss: 0.6799 - accuracy: 0.7885 - val_loss: 0.7354 - val_accuracy: 0.7742\n",
            "Epoch 28/30\n",
            "263/263 [==============================] - 1s 4ms/step - loss: 0.6704 - accuracy: 0.7907 - val_loss: 0.7528 - val_accuracy: 0.7665\n",
            "Epoch 29/30\n",
            "263/263 [==============================] - 1s 4ms/step - loss: 0.6660 - accuracy: 0.7909 - val_loss: 0.7339 - val_accuracy: 0.7770\n",
            "Epoch 30/30\n",
            "263/263 [==============================] - 1s 4ms/step - loss: 0.6374 - accuracy: 0.8018 - val_loss: 0.7085 - val_accuracy: 0.7849\n"
          ]
        }
      ],
      "source": [
        "# Fit the model\n",
        "\n",
        "history_model_2 = model_2.fit(\n",
        "    X_train,\n",
        "    y_train,\n",
        "    validation_split=0.2,\n",
        "    batch_size=128,\n",
        "    epochs=30,\n",
        "    verbose=1\n",
        "\n",
        ")"
      ]
    },
    {
      "cell_type": "markdown",
      "metadata": {
        "id": "6UjEIbPM0XIX"
      },
      "source": [
        "### **Plotting the validation and training accuracies**"
      ]
    },
    {
      "cell_type": "markdown",
      "metadata": {
        "id": "ZJYsvjmw0XIX"
      },
      "source": [
        "### **Write your observations on the below plot.**"
      ]
    },
    {
      "cell_type": "code",
      "execution_count": 24,
      "metadata": {
        "colab": {
          "base_uri": "https://localhost:8080/",
          "height": 696
        },
        "id": "01ig6BrF1KVy",
        "outputId": "910acc3f-2d16-4ade-86ec-0b7804fc113a"
      },
      "outputs": [
        {
          "output_type": "display_data",
          "data": {
            "text/plain": [
              "<Figure size 800x800 with 1 Axes>"
            ],
            "image/png": "[encoded data removed]"
          },
          "metadata": {}
        }
      ],
      "source": [
        "# Plotting the accuracies\n",
        "\n",
        "dict_hist = history_model_2.history\n",
        "\n",
        "list_ep = [i for i in range(1, 31)]\n",
        "\n",
        "plt.figure(figsize = (8, 8))\n",
        "\n",
        "plt.plot(list_ep, dict_hist['accuracy'], ls = '--', label = 'accuracy')\n",
        "\n",
        "plt.plot(list_ep, dict_hist['val_accuracy'], ls = '--', label = 'val_accuracy')\n",
        "\n",
        "plt.ylabel('Accuracy')\n",
        "\n",
        "plt.xlabel('Epochs')\n",
        "\n",
        "plt.legend()\n",
        "\n",
        "plt.show()"
      ]
    },
    {
      "cell_type": "markdown",
      "metadata": {
        "id": "VPW1LlD61RDn"
      },
      "source": [
        "**Observations:** Although we increased the number of layers, we noticed that in this second model, we increased distortions and noise, as we can see in this image. (although we are still close to what is desired) This happens as a result of the consequent increase we made in the learning rate from 0.0001 to 0.0005. Let's try to make it better!"
      ]
    },
    {
      "cell_type": "markdown",
      "metadata": {
        "id": "8kuXx9Bvu00f"
      },
      "source": [
        "## **Predictions on the test data**\n",
        "\n",
        "- Make predictions on the test set using the second model.\n",
        "- Print the obtained results using the classification report and the confusion matrix.\n",
        "- Final observations on the obtained results."
      ]
    },
    {
      "cell_type": "code",
      "execution_count": 25,
      "metadata": {
        "colab": {
          "base_uri": "https://localhost:8080/"
        },
        "id": "xbWMEtTj5Ad0",
        "outputId": "61e5d612-563b-498a-af60-6fa75269ede9"
      },
      "outputs": [
        {
          "output_type": "stream",
          "name": "stdout",
          "text": [
            "563/563 [==============================] - 1s 2ms/step\n"
          ]
        }
      ],
      "source": [
        "test_pred = model_2.predict(X_test)\n",
        "\n",
        "test_pred = np.argmax(test_pred, axis = -1)"
      ]
    },
    {
      "cell_type": "markdown",
      "metadata": {
        "id": "i3li8Ib08yts"
      },
      "source": [
        "**Note:** Earlier, we noticed that each entry of the target variable is a one-hot encoded vector but to print the classification report and confusion matrix, we must convert each entry of y_test to a single label."
      ]
    },
    {
      "cell_type": "code",
      "execution_count": 26,
      "metadata": {
        "id": "NByu7uAQ8x9P"
      },
      "outputs": [],
      "source": [
        "# Converting each entry to single label from one-hot encoded vector\n",
        "\n",
        "y_test = np.argmax(y_test, axis = -1)"
      ]
    },
    {
      "cell_type": "markdown",
      "metadata": {
        "id": "1_SIoopr0XIg"
      },
      "source": [
        "### **Print the classification report and the confusion matrix for the test predictions. Write your observations on the final results.**"
      ]
    },
    {
      "cell_type": "code",
      "execution_count": 27,
      "metadata": {
        "colab": {
          "base_uri": "https://localhost:8080/",
          "height": 760
        },
        "id": "xRddeJ-3EHT1",
        "outputId": "b4bbe1b1-1e23-4c37-837a-250363b3695e"
      },
      "outputs": [
        {
          "output_type": "stream",
          "name": "stdout",
          "text": [
            "              precision    recall  f1-score   support\n",
            "\n",
            "           0       0.89      0.77      0.82      1814\n",
            "           1       0.80      0.82      0.81      1828\n",
            "           2       0.78      0.81      0.79      1803\n",
            "           3       0.72      0.75      0.73      1719\n",
            "           4       0.85      0.81      0.83      1812\n",
            "           5       0.71      0.78      0.74      1768\n",
            "           6       0.81      0.76      0.78      1832\n",
            "           7       0.87      0.77      0.82      1808\n",
            "           8       0.68      0.77      0.72      1812\n",
            "           9       0.75      0.78      0.77      1804\n",
            "\n",
            "    accuracy                           0.78     18000\n",
            "   macro avg       0.79      0.78      0.78     18000\n",
            "weighted avg       0.79      0.78      0.78     18000\n",
            "\n"
          ]
        },
        {
          "output_type": "display_data",
          "data": {
            "text/plain": [
              "<Figure size 800x500 with 2 Axes>"
            ],
            "image/png": "[encoded data removed]"
          },
          "metadata": {}
        }
      ],
      "source": [
        "# Importing required functions\n",
        "\n",
        "from sklearn.metrics import classification_report\n",
        "\n",
        "from sklearn.metrics import confusion_matrix\n",
        "\n",
        "# Printing the classification report\n",
        "\n",
        "print(classification_report(y_test, test_pred))\n",
        "\n",
        "# Plotting the heatmap using confusion matrix\n",
        "\n",
        "cm = confusion_matrix(y_test, test_pred)\n",
        "\n",
        "#Write the code for creating confusion matrix using actual labels (y_test) and predicted labels (test_pred)\n",
        "\n",
        "plt.figure(figsize = (8, 5))\n",
        "\n",
        "sns.heatmap(cm, annot = True,  fmt = '.0f')\n",
        "\n",
        "plt.ylabel('Actual')\n",
        "\n",
        "plt.xlabel('Predicted')\n",
        "\n",
        "plt.show()"
      ]
    },
    {
      "cell_type": "markdown",
      "metadata": {
        "id": "DjErl4GA2u9s"
      },
      "source": [
        "**Final Observations:**The model appears to have a solid performance, as the precision rates for recognizing positive instances are around 0.78. These values indicate a good positive instance identification rate for all classes. On the other hand, recall rates also present rates around 0.78, which indicates a good capacity to recover positive instances for all classes.\n"
      ]
    },
    {
      "cell_type": "markdown",
      "metadata": {
        "id": "xkR4JioMsuIV"
      },
      "source": [
        "## **Using Convolutional Neural Networks**"
      ]
    },
    {
      "cell_type": "code",
      "execution_count": 28,
      "metadata": {
        "id": "6jDqh2niv7u2",
        "scrolled": true
      },
      "outputs": [],
      "source": [
        "h5f = h5py.File('/content/drive/MyDrive/Elective_project/SVHN_single_grey1.h5', 'r')\n",
        "\n",
        "X_train = h5f['X_train'][:]\n",
        "\n",
        "y_train = h5f['y_train'][:]\n",
        "\n",
        "X_test = h5f['X_test'][:]\n",
        "\n",
        "y_test = h5f['y_test'][:]\n",
        "\n",
        "\n",
        "# Close this file\n",
        "\n",
        "h5f.close()"
      ]
    },
    {
      "cell_type": "markdown",
      "metadata": {
        "id": "RCX90mBX7CyN"
      },
      "source": [
        "Let's check the number of images in the training and the testing dataset."
      ]
    },
    {
      "cell_type": "code",
      "execution_count": 29,
      "metadata": {
        "colab": {
          "base_uri": "https://localhost:8080/"
        },
        "id": "bB_CPqX97CyN",
        "outputId": "b11134fe-aa21-4876-c796-841ca7fe21ae"
      },
      "outputs": [
        {
          "output_type": "execute_result",
          "data": {
            "text/plain": [
              "(42000, 18000)"
            ]
          },
          "metadata": {},
          "execution_count": 29
        }
      ],
      "source": [
        "len(X_train), len(X_test)"
      ]
    },
    {
      "cell_type": "markdown",
      "metadata": {
        "id": "n-2ZS88A7CyV"
      },
      "source": [
        "**Observation:**\n",
        "- There are 42,000 images in the training data and 18,000 images in the testing data."
      ]
    },
    {
      "cell_type": "markdown",
      "metadata": {
        "id": "x6wJj56u7CyW"
      },
      "source": [
        "## **Data preparation**\n",
        "\n",
        "- Print the shape and the array of pixels for the first image in the training dataset.\n",
        "- Reshape the train and the test dataset because we always have to give a 4D array as input to CNNs.\n",
        "- Normalize the train and the test dataset by dividing by 255.\n",
        "- Print the new shapes of the train and the test dataset.\n",
        "- One-hot encode the target variable."
      ]
    },
    {
      "cell_type": "code",
      "execution_count": 30,
      "metadata": {
        "colab": {
          "base_uri": "https://localhost:8080/"
        },
        "id": "lFbbhntr7CyW",
        "outputId": "116940e9-c984-486e-cf83-c1470121372a"
      },
      "outputs": [
        {
          "output_type": "stream",
          "name": "stdout",
          "text": [
            "Shape: (32, 32)\n",
            "\n",
            "First image:\n",
            " [[ 33.0704  30.2601  26.852  ...  71.4471  58.2204  42.9939]\n",
            " [ 25.2283  25.5533  29.9765 ... 113.0209 103.3639  84.2949]\n",
            " [ 26.2775  22.6137  40.4763 ... 113.3028 121.775  115.4228]\n",
            " ...\n",
            " [ 28.5502  36.212   45.0801 ...  24.1359  25.0927  26.0603]\n",
            " [ 38.4352  26.4733  23.2717 ...  28.1094  29.4683  30.0661]\n",
            " [ 50.2984  26.0773  24.0389 ...  49.6682  50.853   53.0377]]\n"
          ]
        }
      ],
      "source": [
        "# Shape and the array of pixels for the first image\n",
        "\n",
        "print(\"Shape:\", X_train[0].shape)\n",
        "\n",
        "print()\n",
        "\n",
        "print(\"First image:\\n\", X_train[0])"
      ]
    },
    {
      "cell_type": "code",
      "execution_count": 31,
      "metadata": {
        "id": "NZqaO-nU7CyW"
      },
      "outputs": [],
      "source": [
        "# Reshaping the dataset to be able to pass them to CNNs. Remember that we always have to give a 4D array as input to CNNs\n",
        "\n",
        "X_train = X_train.reshape(X_train.shape[0], 32, 32, 1)\n",
        "\n",
        "X_test = X_test.reshape(X_test.shape[0], 32, 32, 1)"
      ]
    },
    {
      "cell_type": "code",
      "execution_count": 32,
      "metadata": {
        "id": "y4I6Fq_h7CyW"
      },
      "outputs": [],
      "source": [
        "# Normalize inputs from 0-255 to 0-1\n",
        "\n",
        "X_train = X_train / 255.0\n",
        "\n",
        "X_test = X_test / 255.0"
      ]
    },
    {
      "cell_type": "code",
      "execution_count": 33,
      "metadata": {
        "colab": {
          "base_uri": "https://localhost:8080/"
        },
        "id": "iSIgVj6I7CyW",
        "outputId": "aecdcb97-ec45-41f0-bbf8-23e1edf52bf2"
      },
      "outputs": [
        {
          "output_type": "stream",
          "name": "stdout",
          "text": [
            "Training set: (42000, 32, 32, 1) (42000,)\n",
            "Test set: (18000, 32, 32, 1) (18000,)\n"
          ]
        }
      ],
      "source": [
        "# New shape\n",
        "\n",
        "print('Training set:', X_train.shape, y_train.shape)\n",
        "\n",
        "print('Test set:', X_test.shape, y_test.shape)"
      ]
    },
    {
      "cell_type": "markdown",
      "metadata": {
        "id": "10QaOV-xR7Jn"
      },
      "source": [
        "### **One-hot encode the labels in the target variable y_train and y_test.**"
      ]
    },
    {
      "cell_type": "code",
      "execution_count": 34,
      "metadata": {
        "colab": {
          "base_uri": "https://localhost:8080/"
        },
        "id": "D9-cx9yS7CyW",
        "outputId": "330bc280-05ea-4a77-e4ab-e9220d11b94f"
      },
      "outputs": [
        {
          "output_type": "execute_result",
          "data": {
            "text/plain": [
              "array([[0., 1., 0., ..., 0., 0., 0.],\n",
              "       [0., 0., 0., ..., 1., 0., 0.],\n",
              "       [0., 0., 1., ..., 0., 0., 0.],\n",
              "       ...,\n",
              "       [0., 0., 0., ..., 1., 0., 0.],\n",
              "       [0., 0., 0., ..., 0., 0., 1.],\n",
              "       [0., 0., 1., ..., 0., 0., 0.]], dtype=float32)"
            ]
          },
          "metadata": {},
          "execution_count": 34
        }
      ],
      "source": [
        "# Write the function and appropriate variable name to one-hot encode the output\n",
        "\n",
        "y_train = to_categorical(y_train)\n",
        "\n",
        "y_test = to_categorical(y_test)\n",
        "\n",
        "# test labels\n",
        "\n",
        "y_test"
      ]
    },
    {
      "cell_type": "markdown",
      "metadata": {
        "id": "uXVwLJ2-7CyW"
      },
      "source": [
        "**Observation:**\n",
        "- Notice that each entry of the target variable is a one-hot encoded vector instead of a single label."
      ]
    },
    {
      "cell_type": "markdown",
      "metadata": {
        "id": "P3VVYhZd7CyW"
      },
      "source": [
        "## **Model Building**\n",
        "\n",
        "Now that we have done data preprocessing, let's build a CNN model."
      ]
    },
    {
      "cell_type": "code",
      "execution_count": 35,
      "metadata": {
        "id": "ZY5pyF4-KDNt"
      },
      "outputs": [],
      "source": [
        "# Fixing the seed for random number generators\n",
        "\n",
        "np.random.seed(42)\n",
        "\n",
        "import random\n",
        "\n",
        "random.seed(42)\n",
        "\n",
        "tf.random.set_seed(42)"
      ]
    },
    {
      "cell_type": "markdown",
      "metadata": {
        "id": "jkZpgyzw7CyX"
      },
      "source": [
        "### **Model Architecture**\n",
        "- **Write a function** that returns a sequential model with the following architecture:\n",
        " - First Convolutional layer with **16 filters and the kernel size of 3x3**. Use the **'same' padding** and provide the **input shape = (32, 32, 1)**\n",
        " - Add a **LeakyRelu layer** with the **slope equal to 0.1**\n",
        " - Second Convolutional layer with **32 filters and the kernel size of 3x3 with 'same' padding**\n",
        " - Another **LeakyRelu** with the **slope equal to 0.1**\n",
        " - A **max-pooling layer** with a **pool size of 2x2**\n",
        " - **Flatten** the output from the previous layer\n",
        " - Add a **dense layer with 32 nodes**\n",
        " - Add a **LeakyRelu layer with the slope equal to 0.1**\n",
        " - Add the final **output layer with nodes equal to the number of classes, i.e., 10** and **'softmax' as the activation function**\n",
        " - Compile the model with the **loss equal to categorical_crossentropy, optimizer equal to Adam(learning_rate = 0.001), and metric equal to 'accuracy'**. Do not fit the model here, just return the compiled model.\n",
        "- Call the function cnn_model_1 and store the output in a new variable.\n",
        "- Print the summary of the model.\n",
        "- Fit the model on the training data with a **validation split of 0.2, batch size = 32, verbose = 1, and epochs = 20**. Store the model building history to use later for visualization."
      ]
    },
    {
      "cell_type": "markdown",
      "metadata": {
        "id": "JWsAd45JKDNu"
      },
      "source": [
        "### **Build and train a CNN model as per the above mentioned architecture.**"
      ]
    },
    {
      "cell_type": "code",
      "execution_count": 36,
      "metadata": {
        "id": "SyPeYlqS7CyX"
      },
      "outputs": [],
      "source": [
        "# Define the model\n",
        "\n",
        "def cnn_model_1():\n",
        "\n",
        "    model = Sequential()\n",
        "\n",
        "    # Add layers as per the architecture mentioned above in the same sequence\n",
        "\n",
        "    model.add(Conv2D(filters=16, kernel_size=(3,3), padding=\"same\", input_shape=(32, 32, 1)))\n",
        "\n",
        "    model.add(LeakyReLU(0.1))\n",
        "\n",
        "    #Second CNN\n",
        "\n",
        "    model.add(Conv2D(filters=32, kernel_size=(3,3), padding=\"same\"))\n",
        "\n",
        "    model.add(LeakyReLU(0.1))\n",
        "\n",
        "    model.add(MaxPooling2D(pool_size= (2, 2)))\n",
        "\n",
        "    model.add(Flatten())\n",
        "\n",
        "    model.add(Dense(32))\n",
        "\n",
        "    model.add(LeakyReLU(0.1))\n",
        "\n",
        "    #Final_ output layer\n",
        "\n",
        "    model.add(Dense(10, activation = 'softmax'))\n",
        "\n",
        "    # Compile the model\n",
        "\n",
        "    model.compile(\n",
        "      loss= 'categorical_crossentropy',\n",
        "      optimizer=tf.keras.optimizers.Adam(learning_rate=0.001),\n",
        "      metrics=['accuracy']\n",
        "    )\n",
        "\n",
        "    return model"
      ]
    },
    {
      "cell_type": "code",
      "execution_count": 37,
      "metadata": {
        "id": "JUyktN6F7CyX"
      },
      "outputs": [],
      "source": [
        "# Build the model\n",
        "\n",
        "model_1 = cnn_model_1()"
      ]
    },
    {
      "cell_type": "code",
      "execution_count": 38,
      "metadata": {
        "colab": {
          "base_uri": "https://localhost:8080/"
        },
        "id": "_mAjeB5z7CyX",
        "outputId": "331e52ae-25ec-431c-ea6f-d7977d7ab9b3"
      },
      "outputs": [
        {
          "output_type": "stream",
          "name": "stdout",
          "text": [
            "Model: \"sequential_1\"\n",
            "_________________________________________________________________\n",
            " Layer (type)                Output Shape              Param #   \n",
            "=================================================================\n",
            " conv2d (Conv2D)             (None, 32, 32, 16)        160       \n",
            "                                                                 \n",
            " leaky_re_lu (LeakyReLU)     (None, 32, 32, 16)        0         \n",
            "                                                                 \n",
            " conv2d_1 (Conv2D)           (None, 32, 32, 32)        4640      \n",
            "                                                                 \n",
            " leaky_re_lu_1 (LeakyReLU)   (None, 32, 32, 32)        0         \n",
            "                                                                 \n",
            " max_pooling2d (MaxPooling2  (None, 16, 16, 32)        0         \n",
            " D)                                                              \n",
            "                                                                 \n",
            " flatten (Flatten)           (None, 8192)              0         \n",
            "                                                                 \n",
            " dense_6 (Dense)             (None, 32)                262176    \n",
            "                                                                 \n",
            " leaky_re_lu_2 (LeakyReLU)   (None, 32)                0         \n",
            "                                                                 \n",
            " dense_7 (Dense)             (None, 10)                330       \n",
            "                                                                 \n",
            "=================================================================\n",
            "Total params: 267306 (1.02 MB)\n",
            "Trainable params: 267306 (1.02 MB)\n",
            "Non-trainable params: 0 (0.00 Byte)\n",
            "_________________________________________________________________\n"
          ]
        }
      ],
      "source": [
        "# Print the model summary\n",
        "\n",
        "model_1.summary()"
      ]
    },
    {
      "cell_type": "code",
      "execution_count": 39,
      "metadata": {
        "colab": {
          "base_uri": "https://localhost:8080/"
        },
        "id": "-Ioer0DV7CyX",
        "outputId": "519fbf80-be82-4804-aad8-973ae2263566"
      },
      "outputs": [
        {
          "output_type": "stream",
          "name": "stdout",
          "text": [
            "Epoch 1/20\n",
            "1050/1050 [==============================] - 9s 6ms/step - loss: 1.1143 - accuracy: 0.6372 - val_loss: 0.6616 - val_accuracy: 0.8092\n",
            "Epoch 2/20\n",
            "1050/1050 [==============================] - 4s 4ms/step - loss: 0.5536 - accuracy: 0.8399 - val_loss: 0.5256 - val_accuracy: 0.8499\n",
            "Epoch 3/20\n",
            "1050/1050 [==============================] - 4s 4ms/step - loss: 0.4524 - accuracy: 0.8668 - val_loss: 0.5140 - val_accuracy: 0.8526\n",
            "Epoch 4/20\n",
            "1050/1050 [==============================] - 5s 5ms/step - loss: 0.3876 - accuracy: 0.8862 - val_loss: 0.4496 - val_accuracy: 0.8755\n",
            "Epoch 5/20\n",
            "1050/1050 [==============================] - 4s 4ms/step - loss: 0.3423 - accuracy: 0.8957 - val_loss: 0.4503 - val_accuracy: 0.8710\n",
            "Epoch 6/20\n",
            "1050/1050 [==============================] - 4s 4ms/step - loss: 0.3026 - accuracy: 0.9093 - val_loss: 0.4785 - val_accuracy: 0.8649\n",
            "Epoch 7/20\n",
            "1050/1050 [==============================] - 6s 5ms/step - loss: 0.2728 - accuracy: 0.9172 - val_loss: 0.4475 - val_accuracy: 0.8746\n",
            "Epoch 8/20\n",
            "1050/1050 [==============================] - 4s 4ms/step - loss: 0.2409 - accuracy: 0.9267 - val_loss: 0.5203 - val_accuracy: 0.8568\n",
            "Epoch 9/20\n",
            "1050/1050 [==============================] - 4s 4ms/step - loss: 0.2214 - accuracy: 0.9307 - val_loss: 0.4748 - val_accuracy: 0.8736\n",
            "Epoch 10/20\n",
            "1050/1050 [==============================] - 5s 5ms/step - loss: 0.1944 - accuracy: 0.9406 - val_loss: 0.4958 - val_accuracy: 0.8769\n",
            "Epoch 11/20\n",
            "1050/1050 [==============================] - 4s 4ms/step - loss: 0.1718 - accuracy: 0.9473 - val_loss: 0.5470 - val_accuracy: 0.8719\n",
            "Epoch 12/20\n",
            "1050/1050 [==============================] - 4s 4ms/step - loss: 0.1581 - accuracy: 0.9501 - val_loss: 0.5854 - val_accuracy: 0.8665\n",
            "Epoch 13/20\n",
            "1050/1050 [==============================] - 5s 5ms/step - loss: 0.1384 - accuracy: 0.9565 - val_loss: 0.5792 - val_accuracy: 0.8682\n",
            "Epoch 14/20\n",
            "1050/1050 [==============================] - 4s 4ms/step - loss: 0.1219 - accuracy: 0.9630 - val_loss: 0.6430 - val_accuracy: 0.8677\n",
            "Epoch 15/20\n",
            "1050/1050 [==============================] - 4s 4ms/step - loss: 0.1156 - accuracy: 0.9625 - val_loss: 0.6763 - val_accuracy: 0.8590\n",
            "Epoch 16/20\n",
            "1050/1050 [==============================] - 5s 5ms/step - loss: 0.1057 - accuracy: 0.9665 - val_loss: 0.6779 - val_accuracy: 0.8662\n",
            "Epoch 17/20\n",
            "1050/1050 [==============================] - 4s 4ms/step - loss: 0.0943 - accuracy: 0.9697 - val_loss: 0.6940 - val_accuracy: 0.8723\n",
            "Epoch 18/20\n",
            "1050/1050 [==============================] - 4s 4ms/step - loss: 0.0884 - accuracy: 0.9716 - val_loss: 0.7515 - val_accuracy: 0.8677\n",
            "Epoch 19/20\n",
            "1050/1050 [==============================] - 5s 5ms/step - loss: 0.0758 - accuracy: 0.9755 - val_loss: 0.7898 - val_accuracy: 0.8643\n",
            "Epoch 20/20\n",
            "1050/1050 [==============================] - 5s 4ms/step - loss: 0.0673 - accuracy: 0.9779 - val_loss: 0.8451 - val_accuracy: 0.8643\n"
          ]
        }
      ],
      "source": [
        "# Fit the model\n",
        "\n",
        "history_cnn_model_1 = model_1.fit(\n",
        "    X_train,\n",
        "    y_train,\n",
        "    validation_split=0.2,\n",
        "    shuffle = True,\n",
        "    batch_size=32,\n",
        "    epochs=20,\n",
        "    verbose=1\n",
        ")"
      ]
    },
    {
      "cell_type": "markdown",
      "metadata": {
        "id": "UfiAHXdS7CyX"
      },
      "source": [
        "### **Plotting the validation and training accuracies**"
      ]
    },
    {
      "cell_type": "markdown",
      "metadata": {
        "id": "JPzfIf9kKDNw"
      },
      "source": [
        "### **Write your observations on the below plot.**"
      ]
    },
    {
      "cell_type": "code",
      "execution_count": 40,
      "metadata": {
        "id": "YDt-OYSh7CyX",
        "colab": {
          "base_uri": "https://localhost:8080/",
          "height": 696
        },
        "outputId": "7e6eae02-645f-4651-ee0e-4c839e7b2bae"
      },
      "outputs": [
        {
          "output_type": "display_data",
          "data": {
            "text/plain": [
              "<Figure size 800x800 with 1 Axes>"
            ],
            "image/png": "[encoded data removed]"
          },
          "metadata": {}
        }
      ],
      "source": [
        "# Plotting the accuracies\n",
        "\n",
        "dict_hist = history_model_1.history\n",
        "\n",
        "list_ep = [i for i in range(1, 21)]\n",
        "\n",
        "plt.figure(figsize = (8, 8))\n",
        "\n",
        "plt.plot(list_ep, dict_hist['accuracy'], ls = '--', label = 'accuracy')\n",
        "\n",
        "plt.plot(list_ep, dict_hist['val_accuracy'], ls = '--', label = 'val_accuracy')\n",
        "\n",
        "plt.ylabel('Accuracy')\n",
        "\n",
        "plt.xlabel('Epochs')\n",
        "\n",
        "plt.legend()\n",
        "\n",
        "plt.show()"
      ]
    },
    {
      "cell_type": "markdown",
      "metadata": {
        "id": "-A1gOsqS7CyX"
      },
      "source": [
        "**Observations:** In this new model, we can see that the accuracy is around 98%, which demonstrates that the model is adjusting well and is able to learn. However, it may also indicate that there is a tendency towards overfitting. But so that we could confirm this hypothesis, it might be interesting to increase the number of epochs. But that is not the proposal at the moment.\n",
        "\n",
        "The validation loss is also decreasing, indicating that the model is generalizing well to unseen data.\n",
        "\n",
        "The difference between the training and validation metrics is not very large, which may suggest that the model may not be suffering from overfitting. But we need to remain attentive to the next models for the issue of overfitting.\n",
        "\n",
        "Overall, these results seem quite satisfactory."
      ]
    },
    {
      "cell_type": "markdown",
      "metadata": {
        "id": "M2h5TcDt7CyX"
      },
      "source": [
        "Let's build another model and see if we can get a better model with generalized performance.\n",
        "\n",
        "First, we need to clear the previous model's history from the Keras backend. Also, let's fix the seed again after clearing the backend."
      ]
    },
    {
      "cell_type": "code",
      "execution_count": 41,
      "metadata": {
        "id": "g2XohRDC7CyX"
      },
      "outputs": [],
      "source": [
        "# Clearing backend\n",
        "\n",
        "from tensorflow.keras import backend\n",
        "\n",
        "backend.clear_session()"
      ]
    },
    {
      "cell_type": "code",
      "execution_count": 42,
      "metadata": {
        "id": "LOHjBjeP7CyY"
      },
      "outputs": [],
      "source": [
        "# Fixing the seed for random number generators\n",
        "\n",
        "np.random.seed(42)\n",
        "\n",
        "import random\n",
        "\n",
        "random.seed(42)\n",
        "\n",
        "tf.random.set_seed(42)"
      ]
    },
    {
      "cell_type": "markdown",
      "metadata": {
        "id": "OwRS3BbI7CyY"
      },
      "source": [
        "### **Second Model Architecture**\n",
        "\n",
        "- Write a function that returns a sequential model with the following architecture:\n",
        " - First Convolutional layer with **16 filters and the kernel size of 3x3**. Use the **'same' padding** and provide the **input shape = (32, 32, 1)**\n",
        " - Add a **LeakyRelu layer** with the **slope equal to 0.1**\n",
        " - Second Convolutional layer with **32 filters and the kernel size of 3x3 with 'same' padding**\n",
        " - Add **LeakyRelu** with the **slope equal to 0.1**\n",
        " - Add a **max-pooling layer** with a **pool size of 2x2**\n",
        " - Add a **BatchNormalization layer**\n",
        " - Third Convolutional layer with **32 filters and the kernel size of 3x3 with 'same' padding**\n",
        " - Add a **LeakyRelu layer with the slope equal to 0.1**\n",
        " - Fourth Convolutional layer **64 filters and the kernel size of 3x3 with 'same' padding**\n",
        " - Add a **LeakyRelu layer with the slope equal to 0.1**\n",
        " - Add a **max-pooling layer** with a **pool size of 2x2**\n",
        " - Add a **BatchNormalization layer**\n",
        " - **Flatten** the output from the previous layer\n",
        " - Add a **dense layer with 32 nodes**\n",
        " - Add a **LeakyRelu layer with the slope equal to 0.1**\n",
        " - Add a **dropout layer with the rate equal to 0.5**\n",
        " - Add the final **output layer with nodes equal to the number of classes, i.e., 10** and **'softmax' as the activation function**\n",
        " - Compile the model with the **categorical_crossentropy loss, adam optimizers (learning_rate = 0.001), and metric equal to 'accuracy'**. Do not fit the model here, just return the compiled model.\n",
        "- Call the function cnn_model_2 and store the model in a new variable.\n",
        "- Print the summary of the model.\n",
        "- Fit the model on the train data with a **validation split of 0.2, batch size = 128, verbose = 1, and epochs = 30**. Store the model building history to use later for visualization."
      ]
    },
    {
      "cell_type": "markdown",
      "metadata": {
        "id": "y5IBLS1eKDNy"
      },
      "source": [
        "### **Build and train the second CNN model as per the above mentioned architecture.**"
      ]
    },
    {
      "cell_type": "code",
      "execution_count": 43,
      "metadata": {
        "id": "Qz3O8ML27CyY"
      },
      "outputs": [],
      "source": [
        "# Define the model\n",
        "\n",
        "\n",
        "def cnn_model_2():\n",
        "\n",
        "    model = Sequential()\n",
        "\n",
        "    # Add layers as per the architecture mentioned above in the same sequence\n",
        "\n",
        "    # First convolution layer\n",
        "    model.add(Conv2D(filters=16, kernel_size=(3,3), padding=\"same\", input_shape=(32, 32, 1)))\n",
        "\n",
        "    model.add(LeakyReLU(0.1))\n",
        "\n",
        "    # Second convolution layer\n",
        "    model.add(Conv2D(filters=32, kernel_size=(3,3), padding=\"same\"))\n",
        "\n",
        "    model.add(LeakyReLU(0.1))\n",
        "\n",
        "    model.add(MaxPooling2D(pool_size= (2, 2)))\n",
        "\n",
        "    model.add(Dense(32, activation = 'relu'))\n",
        "\n",
        "    # Third convolution layer\n",
        "    model.add(Conv2D(filters=32, kernel_size=(3,3), padding=\"same\"))\n",
        "\n",
        "    model.add(LeakyReLU(0.1))\n",
        "\n",
        "    #model.add(MaxPooling2D(pool_size= (2, 2)))\n",
        "\n",
        "    # Fourth convolution layer\n",
        "    model.add(Conv2D(filters=64, kernel_size=(3,3), padding=\"same\"))\n",
        "\n",
        "    model.add(LeakyReLU(0.1))\n",
        "\n",
        "    model.add(MaxPooling2D(pool_size= (2, 2)))\n",
        "\n",
        "    #Add a BatchNormalization layer\n",
        "\n",
        "    model.add(Dense(32, activation = 'relu'))\n",
        "\n",
        "    model.add(Flatten())\n",
        "\n",
        "    model.add(Dense(32, activation='relu'))\n",
        "\n",
        "    model.add(LeakyReLU(0.1))\n",
        "\n",
        "    model.add(Dropout(0.5))\n",
        "\n",
        "    model.add(Dense(10, activation = 'softmax'))\n",
        "\n",
        "    # Compile the model\n",
        "\n",
        "    model.compile(\n",
        "      loss= 'categorical_crossentropy',\n",
        "      optimizer=tf.keras.optimizers.Adam(learning_rate=0.001),\n",
        "      metrics=['accuracy']\n",
        "    )\n",
        "\n",
        "    return model\n"
      ]
    },
    {
      "cell_type": "code",
      "execution_count": 44,
      "metadata": {
        "id": "soQ_mNW37CyY"
      },
      "outputs": [],
      "source": [
        "# Build the model\n",
        "\n",
        "model_2 = cnn_model_2"
      ]
    },
    {
      "cell_type": "code",
      "execution_count": 45,
      "metadata": {
        "id": "fJ4nggWAGpDK"
      },
      "outputs": [],
      "source": [
        "# Crie a instância do modelo\n",
        "model_2 = cnn_model_2()\n"
      ]
    },
    {
      "cell_type": "code",
      "execution_count": 46,
      "metadata": {
        "id": "EQ3hqzlg7CyY",
        "colab": {
          "base_uri": "https://localhost:8080/"
        },
        "outputId": "17948e15-2e01-4943-8455-b050b508557e"
      },
      "outputs": [
        {
          "output_type": "stream",
          "name": "stdout",
          "text": [
            "Model: \"sequential\"\n",
            "_________________________________________________________________\n",
            " Layer (type)                Output Shape              Param #   \n",
            "=================================================================\n",
            " conv2d (Conv2D)             (None, 32, 32, 16)        160       \n",
            "                                                                 \n",
            " leaky_re_lu (LeakyReLU)     (None, 32, 32, 16)        0         \n",
            "                                                                 \n",
            " conv2d_1 (Conv2D)           (None, 32, 32, 32)        4640      \n",
            "                                                                 \n",
            " leaky_re_lu_1 (LeakyReLU)   (None, 32, 32, 32)        0         \n",
            "                                                                 \n",
            " max_pooling2d (MaxPooling2  (None, 16, 16, 32)        0         \n",
            " D)                                                              \n",
            "                                                                 \n",
            " dense (Dense)               (None, 16, 16, 32)        1056      \n",
            "                                                                 \n",
            " conv2d_2 (Conv2D)           (None, 16, 16, 32)        9248      \n",
            "                                                                 \n",
            " leaky_re_lu_2 (LeakyReLU)   (None, 16, 16, 32)        0         \n",
            "                                                                 \n",
            " conv2d_3 (Conv2D)           (None, 16, 16, 64)        18496     \n",
            "                                                                 \n",
            " leaky_re_lu_3 (LeakyReLU)   (None, 16, 16, 64)        0         \n",
            "                                                                 \n",
            " max_pooling2d_1 (MaxPoolin  (None, 8, 8, 64)          0         \n",
            " g2D)                                                            \n",
            "                                                                 \n",
            " dense_1 (Dense)             (None, 8, 8, 32)          2080      \n",
            "                                                                 \n",
            " flatten (Flatten)           (None, 2048)              0         \n",
            "                                                                 \n",
            " dense_2 (Dense)             (None, 32)                65568     \n",
            "                                                                 \n",
            " leaky_re_lu_4 (LeakyReLU)   (None, 32)                0         \n",
            "                                                                 \n",
            " dropout (Dropout)           (None, 32)                0         \n",
            "                                                                 \n",
            " dense_3 (Dense)             (None, 10)                330       \n",
            "                                                                 \n",
            "=================================================================\n",
            "Total params: 101578 (396.79 KB)\n",
            "Trainable params: 101578 (396.79 KB)\n",
            "Non-trainable params: 0 (0.00 Byte)\n",
            "_________________________________________________________________\n"
          ]
        }
      ],
      "source": [
        "# Print the summary\n",
        "\n",
        "# Imprima o resumo do modelo\n",
        "model_2.summary()\n",
        "\n",
        "model: \"sequential\""
      ]
    },
    {
      "cell_type": "code",
      "execution_count": 47,
      "metadata": {
        "id": "LRyPGCxe7CyY",
        "colab": {
          "base_uri": "https://localhost:8080/"
        },
        "outputId": "f760b08f-ed68-4762-fe96-d38802b3db9b"
      },
      "outputs": [
        {
          "output_type": "stream",
          "name": "stdout",
          "text": [
            "Epoch 1/30\n",
            "263/263 [==============================] - 8s 14ms/step - loss: 2.1655 - accuracy: 0.1735 - val_loss: 1.1944 - val_accuracy: 0.6620\n",
            "Epoch 2/30\n",
            "263/263 [==============================] - 3s 12ms/step - loss: 1.2197 - accuracy: 0.5688 - val_loss: 0.6133 - val_accuracy: 0.8207\n",
            "Epoch 3/30\n",
            "263/263 [==============================] - 3s 12ms/step - loss: 0.9439 - accuracy: 0.6778 - val_loss: 0.5154 - val_accuracy: 0.8512\n",
            "Epoch 4/30\n",
            "263/263 [==============================] - 3s 10ms/step - loss: 0.8397 - accuracy: 0.7100 - val_loss: 0.4887 - val_accuracy: 0.8567\n",
            "Epoch 5/30\n",
            "263/263 [==============================] - 3s 10ms/step - loss: 0.7618 - accuracy: 0.7409 - val_loss: 0.4422 - val_accuracy: 0.8698\n",
            "Epoch 6/30\n",
            "263/263 [==============================] - 3s 10ms/step - loss: 0.7188 - accuracy: 0.7556 - val_loss: 0.4497 - val_accuracy: 0.8688\n",
            "Epoch 7/30\n",
            "263/263 [==============================] - 3s 13ms/step - loss: 0.6697 - accuracy: 0.7740 - val_loss: 0.4199 - val_accuracy: 0.8750\n",
            "Epoch 8/30\n",
            "263/263 [==============================] - 3s 11ms/step - loss: 0.6421 - accuracy: 0.7827 - val_loss: 0.4062 - val_accuracy: 0.8794\n",
            "Epoch 9/30\n",
            "263/263 [==============================] - 3s 10ms/step - loss: 0.6200 - accuracy: 0.7929 - val_loss: 0.3962 - val_accuracy: 0.8856\n",
            "Epoch 10/30\n",
            "263/263 [==============================] - 3s 10ms/step - loss: 0.5932 - accuracy: 0.7991 - val_loss: 0.3950 - val_accuracy: 0.8845\n",
            "Epoch 11/30\n",
            "263/263 [==============================] - 3s 12ms/step - loss: 0.5813 - accuracy: 0.8022 - val_loss: 0.3865 - val_accuracy: 0.8851\n",
            "Epoch 12/30\n",
            "263/263 [==============================] - 3s 12ms/step - loss: 0.5582 - accuracy: 0.8081 - val_loss: 0.3912 - val_accuracy: 0.8846\n",
            "Epoch 13/30\n",
            "263/263 [==============================] - 3s 11ms/step - loss: 0.5474 - accuracy: 0.8123 - val_loss: 0.3709 - val_accuracy: 0.8962\n",
            "Epoch 14/30\n",
            "263/263 [==============================] - 3s 11ms/step - loss: 0.5338 - accuracy: 0.8181 - val_loss: 0.3857 - val_accuracy: 0.8894\n",
            "Epoch 15/30\n",
            "263/263 [==============================] - 3s 11ms/step - loss: 0.5212 - accuracy: 0.8222 - val_loss: 0.3821 - val_accuracy: 0.8935\n",
            "Epoch 16/30\n",
            "263/263 [==============================] - 3s 12ms/step - loss: 0.5155 - accuracy: 0.8230 - val_loss: 0.3727 - val_accuracy: 0.8911\n",
            "Epoch 17/30\n",
            "263/263 [==============================] - 3s 12ms/step - loss: 0.5028 - accuracy: 0.8243 - val_loss: 0.3840 - val_accuracy: 0.8915\n",
            "Epoch 18/30\n",
            "263/263 [==============================] - 3s 11ms/step - loss: 0.4885 - accuracy: 0.8313 - val_loss: 0.3752 - val_accuracy: 0.8936\n",
            "Epoch 19/30\n",
            "263/263 [==============================] - 3s 11ms/step - loss: 0.4812 - accuracy: 0.8328 - val_loss: 0.3820 - val_accuracy: 0.8915\n",
            "Epoch 20/30\n",
            "263/263 [==============================] - 3s 11ms/step - loss: 0.4691 - accuracy: 0.8376 - val_loss: 0.3843 - val_accuracy: 0.8979\n",
            "Epoch 21/30\n",
            "263/263 [==============================] - 4s 14ms/step - loss: 0.4564 - accuracy: 0.8424 - val_loss: 0.3944 - val_accuracy: 0.8949\n",
            "Epoch 22/30\n",
            "263/263 [==============================] - 3s 11ms/step - loss: 0.4528 - accuracy: 0.8400 - val_loss: 0.3858 - val_accuracy: 0.8943\n",
            "Epoch 23/30\n",
            "263/263 [==============================] - 3s 11ms/step - loss: 0.4436 - accuracy: 0.8423 - val_loss: 0.3865 - val_accuracy: 0.8976\n",
            "Epoch 24/30\n",
            "263/263 [==============================] - 3s 11ms/step - loss: 0.4413 - accuracy: 0.8438 - val_loss: 0.3969 - val_accuracy: 0.8962\n",
            "Epoch 25/30\n",
            "263/263 [==============================] - 3s 13ms/step - loss: 0.4253 - accuracy: 0.8500 - val_loss: 0.4000 - val_accuracy: 0.8973\n",
            "Epoch 26/30\n",
            "263/263 [==============================] - 3s 12ms/step - loss: 0.4262 - accuracy: 0.8504 - val_loss: 0.3890 - val_accuracy: 0.8970\n",
            "Epoch 27/30\n",
            "263/263 [==============================] - 3s 11ms/step - loss: 0.4292 - accuracy: 0.8475 - val_loss: 0.3888 - val_accuracy: 0.8969\n",
            "Epoch 28/30\n",
            "263/263 [==============================] - 3s 11ms/step - loss: 0.4139 - accuracy: 0.8523 - val_loss: 0.4283 - val_accuracy: 0.8951\n",
            "Epoch 29/30\n",
            "263/263 [==============================] - 3s 11ms/step - loss: 0.4028 - accuracy: 0.8581 - val_loss: 0.4340 - val_accuracy: 0.8965\n",
            "Epoch 30/30\n",
            "263/263 [==============================] - 4s 13ms/step - loss: 0.4042 - accuracy: 0.8562 - val_loss: 0.4188 - val_accuracy: 0.8946\n"
          ]
        }
      ],
      "source": [
        "# Fit the model\n",
        "\n",
        "history_cnn_model_2 = model_2.fit(\n",
        "    X_train,\n",
        "    y_train,\n",
        "    validation_split=0.2,\n",
        "    batch_size=128,\n",
        "    epochs=30,\n",
        "    verbose=1\n",
        ")"
      ]
    },
    {
      "cell_type": "markdown",
      "metadata": {
        "id": "zKCdy59GKDN1"
      },
      "source": [
        "### **Plotting the validation and training accuracies**"
      ]
    },
    {
      "cell_type": "markdown",
      "metadata": {
        "id": "PyhUtMy3KDN1"
      },
      "source": [
        "### **Write your observations on the below plot**"
      ]
    },
    {
      "cell_type": "code",
      "execution_count": 48,
      "metadata": {
        "id": "p0JBpqI-7CyY",
        "colab": {
          "base_uri": "https://localhost:8080/",
          "height": 696
        },
        "outputId": "7602c50a-687a-4c8e-81be-856597d33086"
      },
      "outputs": [
        {
          "output_type": "display_data",
          "data": {
            "text/plain": [
              "<Figure size 800x800 with 1 Axes>"
            ],
            "image/png": "[encoded data removed]"
          },
          "metadata": {}
        }
      ],
      "source": [
        "# Plotting the accuracies\n",
        "\n",
        "dict_hist = history_cnn_model_2.history\n",
        "\n",
        "list_ep = [i for i in range(1, 31)]\n",
        "\n",
        "plt.figure(figsize = (8, 8))\n",
        "\n",
        "plt.plot(list_ep, dict_hist['accuracy'], ls = '--', label = 'accuracy')\n",
        "\n",
        "plt.plot(list_ep, dict_hist['val_accuracy'], ls = '--', label = 'val_accuracy')\n",
        "\n",
        "plt.ylabel('Accuracy')\n",
        "\n",
        "plt.xlabel('Epochs')\n",
        "\n",
        "plt.legend()\n",
        "\n",
        "plt.show()"
      ]
    },
    {
      "cell_type": "markdown",
      "metadata": {
        "id": "wqJXvAi87CyY"
      },
      "source": [
        "**Observations:**In this most recent training, we realized that the model managed to undergo an evolution with the changes promoted in the architecture. We can see that the sample validation achieved a digit recognition rate of around 90%. Index considered quite satisfactory, indicating a good adaptation of the model to the training data.\n",
        "The validation and training curves appear stable and without major fluctuations."
      ]
    },
    {
      "cell_type": "markdown",
      "metadata": {
        "id": "Zrh7kQyT7CyY"
      },
      "source": [
        "## **Predictions on the test data**\n",
        "\n",
        "- Make predictions on the test set using the second model.\n",
        "- Print the obtained results using the classification report and the confusion matrix.\n",
        "- Final observations on the obtained results."
      ]
    },
    {
      "cell_type": "markdown",
      "metadata": {
        "id": "eHCRwRbgKDN2"
      },
      "source": [
        "### **Make predictions on the test data using the second model.**"
      ]
    },
    {
      "cell_type": "code",
      "execution_count": 49,
      "metadata": {
        "id": "RSnc1vQf7CyY",
        "colab": {
          "base_uri": "https://localhost:8080/"
        },
        "outputId": "600e9908-f27d-497d-8647-ef838cf913d7"
      },
      "outputs": [
        {
          "output_type": "stream",
          "name": "stdout",
          "text": [
            "563/563 [==============================] - 3s 4ms/step\n"
          ]
        }
      ],
      "source": [
        "# Make predictions on the test data using model_2\n",
        "test_pred = model_2.predict(X_test)\n",
        "\n",
        "# Convert predictions to labels\n",
        "test_pred = np.argmax(test_pred, axis=-1)\n",
        "\n",
        "# Convert y_test to labels\n",
        "y_test = np.argmax(y_test, axis=-1)\n"
      ]
    },
    {
      "cell_type": "markdown",
      "metadata": {
        "id": "DLFpL_LS7CyY"
      },
      "source": [
        "**Note:** Earlier, we noticed that each entry of the target variable is a one-hot encoded vector, but to print the classification report and confusion matrix, we must convert each entry of y_test to a single label."
      ]
    },
    {
      "cell_type": "markdown",
      "metadata": {
        "id": "aVCa-ysWKDN3"
      },
      "source": [
        "### **Write your final observations on the performance of the model on the test data.**"
      ]
    },
    {
      "cell_type": "code",
      "execution_count": 50,
      "metadata": {
        "id": "pVfBgpNa7CyZ",
        "colab": {
          "base_uri": "https://localhost:8080/",
          "height": 760
        },
        "outputId": "7df08dd7-00ee-480e-f0a6-23d3e78a372d"
      },
      "outputs": [
        {
          "output_type": "stream",
          "name": "stdout",
          "text": [
            "              precision    recall  f1-score   support\n",
            "\n",
            "           0       0.91      0.93      0.92      1814\n",
            "           1       0.90      0.89      0.89      1828\n",
            "           2       0.94      0.91      0.92      1803\n",
            "           3       0.87      0.86      0.87      1719\n",
            "           4       0.89      0.92      0.91      1812\n",
            "           5       0.86      0.92      0.89      1768\n",
            "           6       0.88      0.90      0.89      1832\n",
            "           7       0.94      0.90      0.92      1808\n",
            "           8       0.89      0.87      0.88      1812\n",
            "           9       0.90      0.88      0.89      1804\n",
            "\n",
            "    accuracy                           0.90     18000\n",
            "   macro avg       0.90      0.90      0.90     18000\n",
            "weighted avg       0.90      0.90      0.90     18000\n",
            "\n"
          ]
        },
        {
          "output_type": "display_data",
          "data": {
            "text/plain": [
              "<Figure size 800x500 with 2 Axes>"
            ],
            "image/png": "[encoded data removed]"
          },
          "metadata": {}
        }
      ],
      "source": [
        "# Importing required functions\n",
        "\n",
        "from sklearn.metrics import classification_report\n",
        "\n",
        "from sklearn.metrics import confusion_matrix\n",
        "\n",
        "# Printing the classification report\n",
        "\n",
        "print(classification_report(y_test, test_pred))\n",
        "\n",
        "# Plotting the heatmap using confusion matrix\n",
        "\n",
        "cm = confusion_matrix(y_test, test_pred)\n",
        "\n",
        "plt.figure(figsize = (8, 5))\n",
        "\n",
        "sns.heatmap(cm, annot = True,  fmt = '.0f')\n",
        "\n",
        "plt.ylabel('Actual')\n",
        "\n",
        "plt.xlabel('Predicted')\n",
        "\n",
        "plt.show()"
      ]
    },
    {
      "cell_type": "markdown",
      "metadata": {
        "id": "g-v8X_LO7Cya"
      },
      "source": [
        "**Final Observations:** Finally, we can see that the model demonstrates to be effective and generalized learning of unseen images. The accuracy achieved is satisfactory and indicates that the model is capturing important patterns in the data.\n",
        "\n",
        "Although there are possibilities for improvements, we consider the results to be satisfactory for the moment."
      ]
    }
  ],
  "metadata": {
    "colab": {
      "provenance": [],
      "gpuType": "T4",
      "include_colab_link": true
    },
    "kernelspec": {
      "display_name": "Python 3",
      "name": "python3"
    },
    "language_info": {
      "codemirror_mode": {
        "name": "ipython",
        "version": 3
      },
      "file_extension": ".py",
      "mimetype": "text/x-python",
      "name": "python",
      "nbconvert_exporter": "python",
      "pygments_lexer": "ipython3",
      "version": "3.9.7"
    },
    "accelerator": "GPU"
  },
  "nbformat": 4,
  "nbformat_minor": 0
}